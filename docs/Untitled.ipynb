{
 "cells": [
  {
   "cell_type": "code",
   "execution_count": 1,
   "metadata": {},
   "outputs": [
    {
     "name": "stderr",
     "output_type": "stream",
     "text": [
      "c:\\users\\lcalm\\envs\\altair-env\\lib\\site-packages\\pydeck\\bindings\\deck.py:82: UserWarning: Mapbox API key is not set. This may impact available features of pydeck.\n",
      "  UserWarning,\n"
     ]
    },
    {
     "data": {
      "text/plain": [
       "<streamlit.DeltaGenerator.DeltaGenerator at 0x1a03d87dc88>"
      ]
     },
     "execution_count": 1,
     "metadata": {},
     "output_type": "execute_result"
    }
   ],
   "source": [
    "import streamlit as st\n",
    "import pandas as pd\n",
    "import numpy as np\n",
    "import pydeck as pdk\n",
    "\n",
    "df = pd.DataFrame(\n",
    "    np.random.randn(1000, 2) / [50, 50] + [37.76, -122.4],\n",
    "    columns=['lat', 'lon'])\n",
    "df['color_r'] = 0\n",
    "df['color_g'] = 0\n",
    "df['color_b'] = 255\n",
    "df['color'] = '[255,0,0]'\n",
    "\n",
    "st.pydeck_chart(pdk.Deck(\n",
    "    map_style='mapbox://styles/mapbox/light-v9',\n",
    "    initial_view_state=pdk.ViewState(\n",
    "        latitude=37.76,\n",
    "        longitude=-122.4,\n",
    "        zoom=11,\n",
    "        pitch=50,\n",
    "    ),\n",
    "    layers=[\n",
    "        pdk.Layer(\n",
    "            'ScatterplotLayer',\n",
    "            data=df,\n",
    "            get_position='[lon, lat]',\n",
    "            # original, this works\n",
    "            # get_color='[200, 30, 0, 160]',\n",
    "\n",
    "            # GetColor, dow not work\n",
    "            # getColorR=255,\n",
    "            # getColorG=0,\n",
    "            # getColorB=0,\n",
    "            \n",
    "            # getting colors from columns\n",
    "            # getColorR='[color_r]',\n",
    "            # getColorG='[color_g]',\n",
    "            # getColorB='[color_b]',\n",
    "            \n",
    "            # getting colors from single column\n",
    "            # get_Color='[color]'\n",
    "\n",
    "            # or maybe like this? does not work either\n",
    "            # get_Color='[color]'.split(','),\n",
    "\n",
    "            get_radius=200,\n",
    "        ),\n",
    "    ],\n",
    "))"
   ]
  },
  {
   "cell_type": "code",
   "execution_count": null,
   "metadata": {},
   "outputs": [],
   "source": []
  }
 ],
 "metadata": {
  "kernelspec": {
   "display_name": "Python 3",
   "language": "python",
   "name": "python3"
  },
  "language_info": {
   "codemirror_mode": {
    "name": "ipython",
    "version": 3
   },
   "file_extension": ".py",
   "mimetype": "text/x-python",
   "name": "python",
   "nbconvert_exporter": "python",
   "pygments_lexer": "ipython3",
   "version": "3.7.4"
  }
 },
 "nbformat": 4,
 "nbformat_minor": 2
}
